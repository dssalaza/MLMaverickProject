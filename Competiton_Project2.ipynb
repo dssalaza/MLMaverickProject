{
 "cells": [
  {
   "cell_type": "markdown",
   "id": "c3eaa67a",
   "metadata": {},
   "source": [
    "# B. Competition \n",
    "\n",
    "MLMaverick Team\n",
    "- Seulah Lee 300361747\n",
    "- David Steven Salazar Villegas 300356922\n",
    "- Ishwinder Singh 300351938"
   ]
  },
  {
   "cell_type": "markdown",
   "id": "08cceebd",
   "metadata": {},
   "source": [
    "### 1. Load the dataset\n",
    "- Create a cleaned copy of the DataFrame"
   ]
  },
  {
   "cell_type": "code",
   "execution_count": 1,
   "id": "3649488a",
   "metadata": {},
   "outputs": [
    {
     "data": {
      "text/plain": [
       "(9000, 17)"
      ]
     },
     "execution_count": 1,
     "metadata": {},
     "output_type": "execute_result"
    }
   ],
   "source": [
    "import pandas as pd\n",
    "\n",
    "\n",
    "df = pd.read_csv('bank-sampled-9K.csv',index_col=0)\n",
    "\n",
    "df_cleaned = df.dropna()\n",
    "df_cleaned.head()\n",
    "df_cleaned.shape"
   ]
  },
  {
   "cell_type": "markdown",
   "id": "e83e90a1",
   "metadata": {},
   "source": [
    "### Removing Outliers using zscore "
   ]
  },
  {
   "cell_type": "code",
   "execution_count": 2,
   "id": "9a43c03e",
   "metadata": {},
   "outputs": [
    {
     "name": "stdout",
     "output_type": "stream",
     "text": [
      "(8647, 17)\n",
      "(8524, 17)\n"
     ]
    }
   ],
   "source": [
    "\n",
    "condition = df.poutcome == 'other'\n",
    "df_cleaned = df.drop(df[condition].index, axis = 0, inplace = False)\n",
    "\n",
    "df_cleaned[['job','education']] = df_cleaned[['job','education']].replace(['unknown'],'other')\n",
    "print(df_cleaned.shape)\n",
    "\n",
    "\n",
    "from scipy.stats import zscore\n",
    "\n",
    "df_cleaned[['balance']].mean()\n",
    "df_cleaned[['balance']].mean()\n",
    "\n",
    "df_cleaned['balance_outliers'] = df_cleaned['balance']\n",
    "df_cleaned['balance_outliers']= zscore(df_cleaned['balance_outliers'])\n",
    "\n",
    "condition1 = (df_cleaned['balance_outliers']>3) | (df_cleaned['balance_outliers']<-3 )\n",
    "df_cleaned = df_cleaned.drop(df_cleaned[condition1].index, axis = 0, inplace = False)\n",
    "df_cleaned = df_cleaned.drop('balance_outliers', axis=1)\n",
    "print(df_cleaned.shape)"
   ]
  },
  {
   "cell_type": "markdown",
   "id": "04febac6",
   "metadata": {},
   "source": [
    "### Dropping Duration , merging day and month"
   ]
  },
  {
   "cell_type": "code",
   "execution_count": 3,
   "id": "5f6e0c3c",
   "metadata": {},
   "outputs": [
    {
     "data": {
      "text/html": [
       "<div>\n",
       "<style scoped>\n",
       "    .dataframe tbody tr th:only-of-type {\n",
       "        vertical-align: middle;\n",
       "    }\n",
       "\n",
       "    .dataframe tbody tr th {\n",
       "        vertical-align: top;\n",
       "    }\n",
       "\n",
       "    .dataframe thead th {\n",
       "        text-align: right;\n",
       "    }\n",
       "</style>\n",
       "<table border=\"1\" class=\"dataframe\">\n",
       "  <thead>\n",
       "    <tr style=\"text-align: right;\">\n",
       "      <th></th>\n",
       "      <th>age</th>\n",
       "      <th>job</th>\n",
       "      <th>marital</th>\n",
       "      <th>education</th>\n",
       "      <th>default</th>\n",
       "      <th>balance</th>\n",
       "      <th>housing</th>\n",
       "      <th>loan</th>\n",
       "      <th>contact</th>\n",
       "      <th>campaign</th>\n",
       "      <th>pdays</th>\n",
       "      <th>previous</th>\n",
       "      <th>poutcome</th>\n",
       "      <th>y</th>\n",
       "      <th>last_contact</th>\n",
       "    </tr>\n",
       "  </thead>\n",
       "  <tbody>\n",
       "    <tr>\n",
       "      <th>0</th>\n",
       "      <td>58</td>\n",
       "      <td>management</td>\n",
       "      <td>married</td>\n",
       "      <td>tertiary</td>\n",
       "      <td>no</td>\n",
       "      <td>2143</td>\n",
       "      <td>yes</td>\n",
       "      <td>no</td>\n",
       "      <td>unknown</td>\n",
       "      <td>1</td>\n",
       "      <td>-1</td>\n",
       "      <td>0</td>\n",
       "      <td>unknown</td>\n",
       "      <td>no</td>\n",
       "      <td>197</td>\n",
       "    </tr>\n",
       "    <tr>\n",
       "      <th>2</th>\n",
       "      <td>33</td>\n",
       "      <td>entrepreneur</td>\n",
       "      <td>married</td>\n",
       "      <td>secondary</td>\n",
       "      <td>no</td>\n",
       "      <td>2</td>\n",
       "      <td>yes</td>\n",
       "      <td>yes</td>\n",
       "      <td>unknown</td>\n",
       "      <td>1</td>\n",
       "      <td>-1</td>\n",
       "      <td>0</td>\n",
       "      <td>unknown</td>\n",
       "      <td>no</td>\n",
       "      <td>197</td>\n",
       "    </tr>\n",
       "    <tr>\n",
       "      <th>11</th>\n",
       "      <td>29</td>\n",
       "      <td>admin.</td>\n",
       "      <td>single</td>\n",
       "      <td>secondary</td>\n",
       "      <td>no</td>\n",
       "      <td>390</td>\n",
       "      <td>yes</td>\n",
       "      <td>no</td>\n",
       "      <td>unknown</td>\n",
       "      <td>1</td>\n",
       "      <td>-1</td>\n",
       "      <td>0</td>\n",
       "      <td>unknown</td>\n",
       "      <td>no</td>\n",
       "      <td>197</td>\n",
       "    </tr>\n",
       "    <tr>\n",
       "      <th>12</th>\n",
       "      <td>53</td>\n",
       "      <td>technician</td>\n",
       "      <td>married</td>\n",
       "      <td>secondary</td>\n",
       "      <td>no</td>\n",
       "      <td>6</td>\n",
       "      <td>yes</td>\n",
       "      <td>no</td>\n",
       "      <td>unknown</td>\n",
       "      <td>1</td>\n",
       "      <td>-1</td>\n",
       "      <td>0</td>\n",
       "      <td>unknown</td>\n",
       "      <td>no</td>\n",
       "      <td>197</td>\n",
       "    </tr>\n",
       "    <tr>\n",
       "      <th>17</th>\n",
       "      <td>57</td>\n",
       "      <td>blue-collar</td>\n",
       "      <td>married</td>\n",
       "      <td>primary</td>\n",
       "      <td>no</td>\n",
       "      <td>52</td>\n",
       "      <td>yes</td>\n",
       "      <td>no</td>\n",
       "      <td>unknown</td>\n",
       "      <td>1</td>\n",
       "      <td>-1</td>\n",
       "      <td>0</td>\n",
       "      <td>unknown</td>\n",
       "      <td>no</td>\n",
       "      <td>197</td>\n",
       "    </tr>\n",
       "    <tr>\n",
       "      <th>18</th>\n",
       "      <td>60</td>\n",
       "      <td>retired</td>\n",
       "      <td>married</td>\n",
       "      <td>primary</td>\n",
       "      <td>no</td>\n",
       "      <td>60</td>\n",
       "      <td>yes</td>\n",
       "      <td>no</td>\n",
       "      <td>unknown</td>\n",
       "      <td>1</td>\n",
       "      <td>-1</td>\n",
       "      <td>0</td>\n",
       "      <td>unknown</td>\n",
       "      <td>no</td>\n",
       "      <td>197</td>\n",
       "    </tr>\n",
       "    <tr>\n",
       "      <th>24</th>\n",
       "      <td>40</td>\n",
       "      <td>retired</td>\n",
       "      <td>married</td>\n",
       "      <td>primary</td>\n",
       "      <td>no</td>\n",
       "      <td>0</td>\n",
       "      <td>yes</td>\n",
       "      <td>yes</td>\n",
       "      <td>unknown</td>\n",
       "      <td>1</td>\n",
       "      <td>-1</td>\n",
       "      <td>0</td>\n",
       "      <td>unknown</td>\n",
       "      <td>no</td>\n",
       "      <td>197</td>\n",
       "    </tr>\n",
       "    <tr>\n",
       "      <th>38</th>\n",
       "      <td>36</td>\n",
       "      <td>admin.</td>\n",
       "      <td>divorced</td>\n",
       "      <td>secondary</td>\n",
       "      <td>no</td>\n",
       "      <td>506</td>\n",
       "      <td>yes</td>\n",
       "      <td>no</td>\n",
       "      <td>unknown</td>\n",
       "      <td>1</td>\n",
       "      <td>-1</td>\n",
       "      <td>0</td>\n",
       "      <td>unknown</td>\n",
       "      <td>no</td>\n",
       "      <td>197</td>\n",
       "    </tr>\n",
       "    <tr>\n",
       "      <th>40</th>\n",
       "      <td>44</td>\n",
       "      <td>services</td>\n",
       "      <td>divorced</td>\n",
       "      <td>secondary</td>\n",
       "      <td>no</td>\n",
       "      <td>2586</td>\n",
       "      <td>yes</td>\n",
       "      <td>no</td>\n",
       "      <td>unknown</td>\n",
       "      <td>1</td>\n",
       "      <td>-1</td>\n",
       "      <td>0</td>\n",
       "      <td>unknown</td>\n",
       "      <td>no</td>\n",
       "      <td>197</td>\n",
       "    </tr>\n",
       "    <tr>\n",
       "      <th>50</th>\n",
       "      <td>54</td>\n",
       "      <td>blue-collar</td>\n",
       "      <td>married</td>\n",
       "      <td>secondary</td>\n",
       "      <td>no</td>\n",
       "      <td>1291</td>\n",
       "      <td>yes</td>\n",
       "      <td>no</td>\n",
       "      <td>unknown</td>\n",
       "      <td>1</td>\n",
       "      <td>-1</td>\n",
       "      <td>0</td>\n",
       "      <td>unknown</td>\n",
       "      <td>no</td>\n",
       "      <td>197</td>\n",
       "    </tr>\n",
       "  </tbody>\n",
       "</table>\n",
       "</div>"
      ],
      "text/plain": [
       "    age           job   marital  education default  balance housing loan  \\\n",
       "0    58    management   married   tertiary      no     2143     yes   no   \n",
       "2    33  entrepreneur   married  secondary      no        2     yes  yes   \n",
       "11   29        admin.    single  secondary      no      390     yes   no   \n",
       "12   53    technician   married  secondary      no        6     yes   no   \n",
       "17   57   blue-collar   married    primary      no       52     yes   no   \n",
       "18   60       retired   married    primary      no       60     yes   no   \n",
       "24   40       retired   married    primary      no        0     yes  yes   \n",
       "38   36        admin.  divorced  secondary      no      506     yes   no   \n",
       "40   44      services  divorced  secondary      no     2586     yes   no   \n",
       "50   54   blue-collar   married  secondary      no     1291     yes   no   \n",
       "\n",
       "    contact  campaign  pdays  previous poutcome   y  last_contact  \n",
       "0   unknown         1     -1         0  unknown  no           197  \n",
       "2   unknown         1     -1         0  unknown  no           197  \n",
       "11  unknown         1     -1         0  unknown  no           197  \n",
       "12  unknown         1     -1         0  unknown  no           197  \n",
       "17  unknown         1     -1         0  unknown  no           197  \n",
       "18  unknown         1     -1         0  unknown  no           197  \n",
       "24  unknown         1     -1         0  unknown  no           197  \n",
       "38  unknown         1     -1         0  unknown  no           197  \n",
       "40  unknown         1     -1         0  unknown  no           197  \n",
       "50  unknown         1     -1         0  unknown  no           197  "
      ]
     },
     "execution_count": 3,
     "metadata": {},
     "output_type": "execute_result"
    }
   ],
   "source": [
    "df_cleaned.drop('duration',axis=1,inplace=True)\n",
    "\n",
    "from datetime import datetime as dt\n",
    "\n",
    "last_date = \"18 Nov, 2010\"\n",
    "dt_1 = dt.strptime(last_date, \"%d %b, %Y\")\n",
    "\n",
    "df_cleaned['month'] = df_cleaned['month'].apply(lambda x: x.capitalize())\n",
    "df_cleaned['date'] = df_cleaned['day'].astype(str) + \" \" + df_cleaned['month'] + \", 2010\"\n",
    "\n",
    "df_cleaned['last_contact'] = df_cleaned['date'].apply(lambda x: (dt_1 - dt.strptime(x, \"%d %b, %Y\")).days)\n",
    "\n",
    "df_cleaned.drop(columns=['day', 'date', 'month'], axis=1, inplace=True)\n",
    "\n",
    "df_cleaned.head(10)"
   ]
  },
  {
   "cell_type": "markdown",
   "id": "9cb5b26d",
   "metadata": {},
   "source": [
    "### Checking datatypes of the columns"
   ]
  },
  {
   "cell_type": "code",
   "execution_count": 4,
   "id": "b295d138",
   "metadata": {},
   "outputs": [
    {
     "data": {
      "text/plain": [
       "age              int64\n",
       "job             object\n",
       "marital         object\n",
       "education       object\n",
       "default         object\n",
       "balance          int64\n",
       "housing         object\n",
       "loan            object\n",
       "contact         object\n",
       "campaign         int64\n",
       "pdays            int64\n",
       "previous         int64\n",
       "poutcome        object\n",
       "y               object\n",
       "last_contact     int64\n",
       "dtype: object"
      ]
     },
     "execution_count": 4,
     "metadata": {},
     "output_type": "execute_result"
    }
   ],
   "source": [
    "df_cleaned.dtypes"
   ]
  },
  {
   "cell_type": "markdown",
   "id": "42b9a859",
   "metadata": {},
   "source": [
    "### Arranging categorical columns using dummy values"
   ]
  },
  {
   "cell_type": "code",
   "execution_count": 5,
   "id": "4f1576b2",
   "metadata": {},
   "outputs": [
    {
     "name": "stdout",
     "output_type": "stream",
     "text": [
      "       age  balance  campaign  pdays  previous  last_contact  job_blue_collar  \\\n",
      "0       58     2143         1     -1         0           197                0   \n",
      "2       33        2         1     -1         0           197                0   \n",
      "11      29      390         1     -1         0           197                0   \n",
      "12      53        6         1     -1         0           197                0   \n",
      "17      57       52         1     -1         0           197                1   \n",
      "...    ...      ...       ...    ...       ...           ...              ...   \n",
      "45196   25      358         1     -1         0             2                0   \n",
      "45201   53      583         1    184         4             1                0   \n",
      "45204   73     2850         1     40         8             1                0   \n",
      "45206   51      825         3     -1         0             1                0   \n",
      "45207   71     1729         2     -1         0             1                0   \n",
      "\n",
      "       job_entrepreneur  job_housemaid  job_management  ...  \\\n",
      "0                     0              0               1  ...   \n",
      "2                     1              0               0  ...   \n",
      "11                    0              0               0  ...   \n",
      "12                    0              0               0  ...   \n",
      "17                    0              0               0  ...   \n",
      "...                 ...            ...             ...  ...   \n",
      "45196                 0              0               0  ...   \n",
      "45201                 0              0               1  ...   \n",
      "45204                 0              0               0  ...   \n",
      "45206                 0              0               0  ...   \n",
      "45207                 0              0               0  ...   \n",
      "\n",
      "       education_secondary  education_tertiary  default_yes  housing_yes  \\\n",
      "0                        0                   1            0            1   \n",
      "2                        1                   0            0            1   \n",
      "11                       1                   0            0            1   \n",
      "12                       1                   0            0            1   \n",
      "17                       0                   0            0            1   \n",
      "...                    ...                 ...          ...          ...   \n",
      "45196                    1                   0            0            0   \n",
      "45201                    0                   1            0            0   \n",
      "45204                    1                   0            0            0   \n",
      "45206                    0                   1            0            0   \n",
      "45207                    0                   0            0            0   \n",
      "\n",
      "       loan_yes  contact_telephone  contact_unknown  poutcome_success  \\\n",
      "0             0                  0                1                 0   \n",
      "2             1                  0                1                 0   \n",
      "11            0                  0                1                 0   \n",
      "12            0                  0                1                 0   \n",
      "17            0                  0                1                 0   \n",
      "...         ...                ...              ...               ...   \n",
      "45196         0                  0                0                 0   \n",
      "45201         0                  0                0                 1   \n",
      "45204         0                  0                0                 0   \n",
      "45206         0                  0                0                 0   \n",
      "45207         0                  0                0                 0   \n",
      "\n",
      "       poutcome_unknown  y_yes  \n",
      "0                     1      0  \n",
      "2                     1      0  \n",
      "11                    1      0  \n",
      "12                    1      0  \n",
      "17                    1      0  \n",
      "...                 ...    ...  \n",
      "45196                 1      1  \n",
      "45201                 0      1  \n",
      "45204                 0      1  \n",
      "45206                 1      1  \n",
      "45207                 1      1  \n",
      "\n",
      "[8524 rows x 30 columns]\n"
     ]
    }
   ],
   "source": [
    "categorical_columns = df_cleaned.select_dtypes('object').columns\n",
    "dummy_dfs = []\n",
    "\n",
    "for column in categorical_columns:\n",
    "    prefix = column\n",
    "    dummies = pd.get_dummies(df_cleaned[column], prefix=prefix, drop_first=True)\n",
    "    dummies.columns = dummies.columns.map(lambda x: x.replace('-', '_'))\n",
    "    dummies = dummies.astype(int) \n",
    "    dummy_dfs.append(dummies)\n",
    "    df_cleaned.drop(column, axis=1, inplace=True)\n",
    "\n",
    "df_cleaned = pd.concat([df_cleaned] + dummy_dfs, axis=1)\n",
    "\n",
    "print(df_cleaned)"
   ]
  },
  {
   "cell_type": "markdown",
   "id": "427b3551",
   "metadata": {},
   "source": [
    "### Import statments"
   ]
  },
  {
   "cell_type": "code",
   "execution_count": 6,
   "id": "9715a4b0",
   "metadata": {},
   "outputs": [],
   "source": [
    "from sklearn.model_selection import KFold\n",
    "from sklearn.model_selection import train_test_split\n",
    "from sklearn.feature_selection import SelectKBest\n",
    "from sklearn.preprocessing import StandardScaler\n",
    "from sklearn.svm import SVC\n",
    "from sklearn.pipeline import make_pipeline\n",
    "from sklearn.metrics import accuracy_score"
   ]
  },
  {
   "cell_type": "markdown",
   "id": "daeb50f3",
   "metadata": {},
   "source": [
    "### Selecting target column"
   ]
  },
  {
   "cell_type": "code",
   "execution_count": 7,
   "id": "7f08a255",
   "metadata": {},
   "outputs": [],
   "source": [
    "X= df_cleaned.drop('y_yes', axis=1)  # Replace 'target_column_name' with your target column\n",
    "y = df_cleaned['y_yes']"
   ]
  },
  {
   "cell_type": "markdown",
   "id": "573d0229",
   "metadata": {},
   "source": [
    "### Pipeline options\n",
    "- using SelectKbest(10)\n",
    "- StandardScaler\n",
    "- SVC classifier"
   ]
  },
  {
   "cell_type": "code",
   "execution_count": 8,
   "id": "48839058",
   "metadata": {},
   "outputs": [],
   "source": [
    "model = make_pipeline(SelectKBest(k=10), StandardScaler(), SVC())\n",
    "kf = KFold(n_splits=10, random_state=1024, shuffle=True)"
   ]
  },
  {
   "cell_type": "code",
   "execution_count": 9,
   "id": "11a2c7a1",
   "metadata": {},
   "outputs": [],
   "source": [
    "predictions = []\n",
    "actual_labels = []\n",
    "for train_index, test_index in kf.split(X):\n",
    "    X_train, X_test = X.iloc[train_index], X.iloc[test_index]\n",
    "    y_train, y_test = y.iloc[train_index], y.iloc[test_index]\n",
    "    model.fit(X_train, y_train)\n",
    "\n",
    "    y_pred = model.predict(X_test)\n",
    "    \n",
    "    predictions.extend(y_pred)\n",
    "    actual_labels.extend(y_test)"
   ]
  },
  {
   "cell_type": "code",
   "execution_count": 10,
   "id": "de6c542e",
   "metadata": {},
   "outputs": [
    {
     "name": "stdout",
     "output_type": "stream",
     "text": [
      "Accuracy: 0.8962928202721727\n"
     ]
    }
   ],
   "source": [
    "acc = accuracy_score(predictions, actual_labels)\n",
    "print(f'Accuracy: {acc}')"
   ]
  }
 ],
 "metadata": {
  "kernelspec": {
   "display_name": "Python 3 (ipykernel)",
   "language": "python",
   "name": "python3"
  },
  "language_info": {
   "codemirror_mode": {
    "name": "ipython",
    "version": 3
   },
   "file_extension": ".py",
   "mimetype": "text/x-python",
   "name": "python",
   "nbconvert_exporter": "python",
   "pygments_lexer": "ipython3",
   "version": "3.11.5"
  }
 },
 "nbformat": 4,
 "nbformat_minor": 5
}
