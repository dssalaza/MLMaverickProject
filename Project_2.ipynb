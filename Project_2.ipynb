{
 "cells": [
  {
   "cell_type": "markdown",
   "id": "af394807",
   "metadata": {},
   "source": [
    "# Evaluation of different models and Prediction on whether a client agree to join the new bank deposit product\n",
    "\n",
    "## A. Classification Modelling Requirement \n",
    "\n",
    "### MLMaverick Team\n",
    "- Seulah Lee 300361747\n",
    "- David Steven Salazar Villegas 300356922\n",
    "- Ishwinder Singh 300351938"
   ]
  },
  {
   "cell_type": "markdown",
   "id": "d5baf203",
   "metadata": {},
   "source": [
    "### 2.  Importing pandas libraries and csv file for further operations"
   ]
  },
  {
   "cell_type": "code",
   "execution_count": 1,
   "id": "5ba6cac1",
   "metadata": {
    "scrolled": true
   },
   "outputs": [
    {
     "data": {
      "text/html": [
       "<div>\n",
       "<style scoped>\n",
       "    .dataframe tbody tr th:only-of-type {\n",
       "        vertical-align: middle;\n",
       "    }\n",
       "\n",
       "    .dataframe tbody tr th {\n",
       "        vertical-align: top;\n",
       "    }\n",
       "\n",
       "    .dataframe thead th {\n",
       "        text-align: right;\n",
       "    }\n",
       "</style>\n",
       "<table border=\"1\" class=\"dataframe\">\n",
       "  <thead>\n",
       "    <tr style=\"text-align: right;\">\n",
       "      <th></th>\n",
       "      <th>age</th>\n",
       "      <th>job</th>\n",
       "      <th>marital</th>\n",
       "      <th>education</th>\n",
       "      <th>default</th>\n",
       "      <th>balance</th>\n",
       "      <th>housing</th>\n",
       "      <th>loan</th>\n",
       "      <th>contact</th>\n",
       "      <th>day</th>\n",
       "      <th>month</th>\n",
       "      <th>duration</th>\n",
       "      <th>campaign</th>\n",
       "      <th>pdays</th>\n",
       "      <th>previous</th>\n",
       "      <th>poutcome</th>\n",
       "      <th>y</th>\n",
       "    </tr>\n",
       "  </thead>\n",
       "  <tbody>\n",
       "    <tr>\n",
       "      <th>0</th>\n",
       "      <td>58</td>\n",
       "      <td>management</td>\n",
       "      <td>married</td>\n",
       "      <td>tertiary</td>\n",
       "      <td>no</td>\n",
       "      <td>2143</td>\n",
       "      <td>yes</td>\n",
       "      <td>no</td>\n",
       "      <td>unknown</td>\n",
       "      <td>5</td>\n",
       "      <td>may</td>\n",
       "      <td>261</td>\n",
       "      <td>1</td>\n",
       "      <td>-1</td>\n",
       "      <td>0</td>\n",
       "      <td>unknown</td>\n",
       "      <td>no</td>\n",
       "    </tr>\n",
       "    <tr>\n",
       "      <th>2</th>\n",
       "      <td>33</td>\n",
       "      <td>entrepreneur</td>\n",
       "      <td>married</td>\n",
       "      <td>secondary</td>\n",
       "      <td>no</td>\n",
       "      <td>2</td>\n",
       "      <td>yes</td>\n",
       "      <td>yes</td>\n",
       "      <td>unknown</td>\n",
       "      <td>5</td>\n",
       "      <td>may</td>\n",
       "      <td>76</td>\n",
       "      <td>1</td>\n",
       "      <td>-1</td>\n",
       "      <td>0</td>\n",
       "      <td>unknown</td>\n",
       "      <td>no</td>\n",
       "    </tr>\n",
       "    <tr>\n",
       "      <th>11</th>\n",
       "      <td>29</td>\n",
       "      <td>admin.</td>\n",
       "      <td>single</td>\n",
       "      <td>secondary</td>\n",
       "      <td>no</td>\n",
       "      <td>390</td>\n",
       "      <td>yes</td>\n",
       "      <td>no</td>\n",
       "      <td>unknown</td>\n",
       "      <td>5</td>\n",
       "      <td>may</td>\n",
       "      <td>137</td>\n",
       "      <td>1</td>\n",
       "      <td>-1</td>\n",
       "      <td>0</td>\n",
       "      <td>unknown</td>\n",
       "      <td>no</td>\n",
       "    </tr>\n",
       "    <tr>\n",
       "      <th>12</th>\n",
       "      <td>53</td>\n",
       "      <td>technician</td>\n",
       "      <td>married</td>\n",
       "      <td>secondary</td>\n",
       "      <td>no</td>\n",
       "      <td>6</td>\n",
       "      <td>yes</td>\n",
       "      <td>no</td>\n",
       "      <td>unknown</td>\n",
       "      <td>5</td>\n",
       "      <td>may</td>\n",
       "      <td>517</td>\n",
       "      <td>1</td>\n",
       "      <td>-1</td>\n",
       "      <td>0</td>\n",
       "      <td>unknown</td>\n",
       "      <td>no</td>\n",
       "    </tr>\n",
       "    <tr>\n",
       "      <th>17</th>\n",
       "      <td>57</td>\n",
       "      <td>blue-collar</td>\n",
       "      <td>married</td>\n",
       "      <td>primary</td>\n",
       "      <td>no</td>\n",
       "      <td>52</td>\n",
       "      <td>yes</td>\n",
       "      <td>no</td>\n",
       "      <td>unknown</td>\n",
       "      <td>5</td>\n",
       "      <td>may</td>\n",
       "      <td>38</td>\n",
       "      <td>1</td>\n",
       "      <td>-1</td>\n",
       "      <td>0</td>\n",
       "      <td>unknown</td>\n",
       "      <td>no</td>\n",
       "    </tr>\n",
       "  </tbody>\n",
       "</table>\n",
       "</div>"
      ],
      "text/plain": [
       "    age           job  marital  education default  balance housing loan  \\\n",
       "0    58    management  married   tertiary      no     2143     yes   no   \n",
       "2    33  entrepreneur  married  secondary      no        2     yes  yes   \n",
       "11   29        admin.   single  secondary      no      390     yes   no   \n",
       "12   53    technician  married  secondary      no        6     yes   no   \n",
       "17   57   blue-collar  married    primary      no       52     yes   no   \n",
       "\n",
       "    contact  day month  duration  campaign  pdays  previous poutcome   y  \n",
       "0   unknown    5   may       261         1     -1         0  unknown  no  \n",
       "2   unknown    5   may        76         1     -1         0  unknown  no  \n",
       "11  unknown    5   may       137         1     -1         0  unknown  no  \n",
       "12  unknown    5   may       517         1     -1         0  unknown  no  \n",
       "17  unknown    5   may        38         1     -1         0  unknown  no  "
      ]
     },
     "execution_count": 1,
     "metadata": {},
     "output_type": "execute_result"
    }
   ],
   "source": [
    "import pandas as pd\n",
    "import numpy as np\n",
    "df = pd.read_csv('bank-sampled-9k.csv',index_col=0)\n",
    "df.head()"
   ]
  },
  {
   "cell_type": "markdown",
   "id": "6cbd0bbe",
   "metadata": {},
   "source": [
    "### 3. PreProcessing and Removing outliers"
   ]
  },
  {
   "cell_type": "code",
   "execution_count": 2,
   "id": "f4ac076d",
   "metadata": {},
   "outputs": [
    {
     "name": "stdout",
     "output_type": "stream",
     "text": [
      "(8647, 17)\n",
      "(8524, 17)\n"
     ]
    }
   ],
   "source": [
    "condition = df.poutcome == 'other'\n",
    "df_cleaned = df.drop(df[condition].index, axis = 0, inplace = False)\n",
    "\n",
    "df_cleaned[['job','education']] = df_cleaned[['job','education']].replace(['unknown'],'other')\n",
    "print(df_cleaned.shape)\n",
    "\n",
    "\n",
    "from scipy.stats import zscore\n",
    "\n",
    "df_cleaned[['balance']].mean()\n",
    "df_cleaned[['balance']].mean()\n",
    "\n",
    "df_cleaned['balance_outliers'] = df_cleaned['balance']\n",
    "df_cleaned['balance_outliers']= zscore(df_cleaned['balance_outliers'])\n",
    "\n",
    "condition1 = (df_cleaned['balance_outliers']>3) | (df_cleaned['balance_outliers']<-3 )\n",
    "df_cleaned = df_cleaned.drop(df_cleaned[condition1].index, axis = 0, inplace = False)\n",
    "df_cleaned = df_cleaned.drop('balance_outliers', axis=1)\n",
    "print(df_cleaned.shape)"
   ]
  },
  {
   "cell_type": "markdown",
   "id": "8e921f28",
   "metadata": {},
   "source": [
    "### Dropping duration column and merging data of `date` and `day` columns into `last_contact`"
   ]
  },
  {
   "cell_type": "code",
   "execution_count": 3,
   "id": "2d371cb3",
   "metadata": {},
   "outputs": [
    {
     "data": {
      "text/html": [
       "<div>\n",
       "<style scoped>\n",
       "    .dataframe tbody tr th:only-of-type {\n",
       "        vertical-align: middle;\n",
       "    }\n",
       "\n",
       "    .dataframe tbody tr th {\n",
       "        vertical-align: top;\n",
       "    }\n",
       "\n",
       "    .dataframe thead th {\n",
       "        text-align: right;\n",
       "    }\n",
       "</style>\n",
       "<table border=\"1\" class=\"dataframe\">\n",
       "  <thead>\n",
       "    <tr style=\"text-align: right;\">\n",
       "      <th></th>\n",
       "      <th>age</th>\n",
       "      <th>job</th>\n",
       "      <th>marital</th>\n",
       "      <th>education</th>\n",
       "      <th>default</th>\n",
       "      <th>balance</th>\n",
       "      <th>housing</th>\n",
       "      <th>loan</th>\n",
       "      <th>contact</th>\n",
       "      <th>day</th>\n",
       "      <th>month</th>\n",
       "      <th>duration</th>\n",
       "      <th>campaign</th>\n",
       "      <th>pdays</th>\n",
       "      <th>previous</th>\n",
       "      <th>poutcome</th>\n",
       "      <th>y</th>\n",
       "    </tr>\n",
       "  </thead>\n",
       "  <tbody>\n",
       "    <tr>\n",
       "      <th>0</th>\n",
       "      <td>58</td>\n",
       "      <td>management</td>\n",
       "      <td>married</td>\n",
       "      <td>tertiary</td>\n",
       "      <td>no</td>\n",
       "      <td>2143</td>\n",
       "      <td>yes</td>\n",
       "      <td>no</td>\n",
       "      <td>unknown</td>\n",
       "      <td>5</td>\n",
       "      <td>may</td>\n",
       "      <td>261</td>\n",
       "      <td>1</td>\n",
       "      <td>-1</td>\n",
       "      <td>0</td>\n",
       "      <td>unknown</td>\n",
       "      <td>no</td>\n",
       "    </tr>\n",
       "    <tr>\n",
       "      <th>2</th>\n",
       "      <td>33</td>\n",
       "      <td>entrepreneur</td>\n",
       "      <td>married</td>\n",
       "      <td>secondary</td>\n",
       "      <td>no</td>\n",
       "      <td>2</td>\n",
       "      <td>yes</td>\n",
       "      <td>yes</td>\n",
       "      <td>unknown</td>\n",
       "      <td>5</td>\n",
       "      <td>may</td>\n",
       "      <td>76</td>\n",
       "      <td>1</td>\n",
       "      <td>-1</td>\n",
       "      <td>0</td>\n",
       "      <td>unknown</td>\n",
       "      <td>no</td>\n",
       "    </tr>\n",
       "    <tr>\n",
       "      <th>11</th>\n",
       "      <td>29</td>\n",
       "      <td>admin.</td>\n",
       "      <td>single</td>\n",
       "      <td>secondary</td>\n",
       "      <td>no</td>\n",
       "      <td>390</td>\n",
       "      <td>yes</td>\n",
       "      <td>no</td>\n",
       "      <td>unknown</td>\n",
       "      <td>5</td>\n",
       "      <td>may</td>\n",
       "      <td>137</td>\n",
       "      <td>1</td>\n",
       "      <td>-1</td>\n",
       "      <td>0</td>\n",
       "      <td>unknown</td>\n",
       "      <td>no</td>\n",
       "    </tr>\n",
       "    <tr>\n",
       "      <th>12</th>\n",
       "      <td>53</td>\n",
       "      <td>technician</td>\n",
       "      <td>married</td>\n",
       "      <td>secondary</td>\n",
       "      <td>no</td>\n",
       "      <td>6</td>\n",
       "      <td>yes</td>\n",
       "      <td>no</td>\n",
       "      <td>unknown</td>\n",
       "      <td>5</td>\n",
       "      <td>may</td>\n",
       "      <td>517</td>\n",
       "      <td>1</td>\n",
       "      <td>-1</td>\n",
       "      <td>0</td>\n",
       "      <td>unknown</td>\n",
       "      <td>no</td>\n",
       "    </tr>\n",
       "    <tr>\n",
       "      <th>17</th>\n",
       "      <td>57</td>\n",
       "      <td>blue-collar</td>\n",
       "      <td>married</td>\n",
       "      <td>primary</td>\n",
       "      <td>no</td>\n",
       "      <td>52</td>\n",
       "      <td>yes</td>\n",
       "      <td>no</td>\n",
       "      <td>unknown</td>\n",
       "      <td>5</td>\n",
       "      <td>may</td>\n",
       "      <td>38</td>\n",
       "      <td>1</td>\n",
       "      <td>-1</td>\n",
       "      <td>0</td>\n",
       "      <td>unknown</td>\n",
       "      <td>no</td>\n",
       "    </tr>\n",
       "    <tr>\n",
       "      <th>18</th>\n",
       "      <td>60</td>\n",
       "      <td>retired</td>\n",
       "      <td>married</td>\n",
       "      <td>primary</td>\n",
       "      <td>no</td>\n",
       "      <td>60</td>\n",
       "      <td>yes</td>\n",
       "      <td>no</td>\n",
       "      <td>unknown</td>\n",
       "      <td>5</td>\n",
       "      <td>may</td>\n",
       "      <td>219</td>\n",
       "      <td>1</td>\n",
       "      <td>-1</td>\n",
       "      <td>0</td>\n",
       "      <td>unknown</td>\n",
       "      <td>no</td>\n",
       "    </tr>\n",
       "    <tr>\n",
       "      <th>24</th>\n",
       "      <td>40</td>\n",
       "      <td>retired</td>\n",
       "      <td>married</td>\n",
       "      <td>primary</td>\n",
       "      <td>no</td>\n",
       "      <td>0</td>\n",
       "      <td>yes</td>\n",
       "      <td>yes</td>\n",
       "      <td>unknown</td>\n",
       "      <td>5</td>\n",
       "      <td>may</td>\n",
       "      <td>181</td>\n",
       "      <td>1</td>\n",
       "      <td>-1</td>\n",
       "      <td>0</td>\n",
       "      <td>unknown</td>\n",
       "      <td>no</td>\n",
       "    </tr>\n",
       "    <tr>\n",
       "      <th>38</th>\n",
       "      <td>36</td>\n",
       "      <td>admin.</td>\n",
       "      <td>divorced</td>\n",
       "      <td>secondary</td>\n",
       "      <td>no</td>\n",
       "      <td>506</td>\n",
       "      <td>yes</td>\n",
       "      <td>no</td>\n",
       "      <td>unknown</td>\n",
       "      <td>5</td>\n",
       "      <td>may</td>\n",
       "      <td>577</td>\n",
       "      <td>1</td>\n",
       "      <td>-1</td>\n",
       "      <td>0</td>\n",
       "      <td>unknown</td>\n",
       "      <td>no</td>\n",
       "    </tr>\n",
       "    <tr>\n",
       "      <th>40</th>\n",
       "      <td>44</td>\n",
       "      <td>services</td>\n",
       "      <td>divorced</td>\n",
       "      <td>secondary</td>\n",
       "      <td>no</td>\n",
       "      <td>2586</td>\n",
       "      <td>yes</td>\n",
       "      <td>no</td>\n",
       "      <td>unknown</td>\n",
       "      <td>5</td>\n",
       "      <td>may</td>\n",
       "      <td>160</td>\n",
       "      <td>1</td>\n",
       "      <td>-1</td>\n",
       "      <td>0</td>\n",
       "      <td>unknown</td>\n",
       "      <td>no</td>\n",
       "    </tr>\n",
       "    <tr>\n",
       "      <th>50</th>\n",
       "      <td>54</td>\n",
       "      <td>blue-collar</td>\n",
       "      <td>married</td>\n",
       "      <td>secondary</td>\n",
       "      <td>no</td>\n",
       "      <td>1291</td>\n",
       "      <td>yes</td>\n",
       "      <td>no</td>\n",
       "      <td>unknown</td>\n",
       "      <td>5</td>\n",
       "      <td>may</td>\n",
       "      <td>266</td>\n",
       "      <td>1</td>\n",
       "      <td>-1</td>\n",
       "      <td>0</td>\n",
       "      <td>unknown</td>\n",
       "      <td>no</td>\n",
       "    </tr>\n",
       "  </tbody>\n",
       "</table>\n",
       "</div>"
      ],
      "text/plain": [
       "    age           job   marital  education default  balance housing loan  \\\n",
       "0    58    management   married   tertiary      no     2143     yes   no   \n",
       "2    33  entrepreneur   married  secondary      no        2     yes  yes   \n",
       "11   29        admin.    single  secondary      no      390     yes   no   \n",
       "12   53    technician   married  secondary      no        6     yes   no   \n",
       "17   57   blue-collar   married    primary      no       52     yes   no   \n",
       "18   60       retired   married    primary      no       60     yes   no   \n",
       "24   40       retired   married    primary      no        0     yes  yes   \n",
       "38   36        admin.  divorced  secondary      no      506     yes   no   \n",
       "40   44      services  divorced  secondary      no     2586     yes   no   \n",
       "50   54   blue-collar   married  secondary      no     1291     yes   no   \n",
       "\n",
       "    contact  day month  duration  campaign  pdays  previous poutcome   y  \n",
       "0   unknown    5   may       261         1     -1         0  unknown  no  \n",
       "2   unknown    5   may        76         1     -1         0  unknown  no  \n",
       "11  unknown    5   may       137         1     -1         0  unknown  no  \n",
       "12  unknown    5   may       517         1     -1         0  unknown  no  \n",
       "17  unknown    5   may        38         1     -1         0  unknown  no  \n",
       "18  unknown    5   may       219         1     -1         0  unknown  no  \n",
       "24  unknown    5   may       181         1     -1         0  unknown  no  \n",
       "38  unknown    5   may       577         1     -1         0  unknown  no  \n",
       "40  unknown    5   may       160         1     -1         0  unknown  no  \n",
       "50  unknown    5   may       266         1     -1         0  unknown  no  "
      ]
     },
     "execution_count": 3,
     "metadata": {},
     "output_type": "execute_result"
    }
   ],
   "source": [
    "df_cleaned.drop('duration',axis=1,inplace=True)\n",
    "\n",
    "from datetime import datetime as dt\n",
    "\n",
    "last_date = \"18 Nov, 2010\"\n",
    "dt_1 = dt.strptime(last_date, \"%d %b, %Y\")\n",
    "\n",
    "df_cleaned['month'] = df_cleaned['month'].apply(lambda x: x.capitalize())\n",
    "df_cleaned['date'] = df_cleaned['day'].astype(str) + \" \" + df_cleaned['month'] + \", 2010\"\n",
    "\n",
    "df_cleaned['last_contact'] = df_cleaned['date'].apply(lambda x: (dt_1 - dt.strptime(x, \"%d %b, %Y\")).days)\n",
    "\n",
    "df_cleaned.drop(columns=['day', 'date', 'month'], axis=1, inplace=True)\n",
    "\n",
    "df.head(10)"
   ]
  },
  {
   "cell_type": "markdown",
   "id": "78fb88ea",
   "metadata": {},
   "source": [
    "### Display the summary statistics of the dataset"
   ]
  },
  {
   "cell_type": "code",
   "execution_count": 4,
   "id": "16b4a3ed",
   "metadata": {},
   "outputs": [
    {
     "data": {
      "text/html": [
       "<div>\n",
       "<style scoped>\n",
       "    .dataframe tbody tr th:only-of-type {\n",
       "        vertical-align: middle;\n",
       "    }\n",
       "\n",
       "    .dataframe tbody tr th {\n",
       "        vertical-align: top;\n",
       "    }\n",
       "\n",
       "    .dataframe thead th {\n",
       "        text-align: right;\n",
       "    }\n",
       "</style>\n",
       "<table border=\"1\" class=\"dataframe\">\n",
       "  <thead>\n",
       "    <tr style=\"text-align: right;\">\n",
       "      <th></th>\n",
       "      <th>age</th>\n",
       "      <th>balance</th>\n",
       "      <th>campaign</th>\n",
       "      <th>pdays</th>\n",
       "      <th>previous</th>\n",
       "      <th>last_contact</th>\n",
       "    </tr>\n",
       "  </thead>\n",
       "  <tbody>\n",
       "    <tr>\n",
       "      <th>count</th>\n",
       "      <td>8524.000000</td>\n",
       "      <td>8524.000000</td>\n",
       "      <td>8524.000000</td>\n",
       "      <td>8524.000000</td>\n",
       "      <td>8524.000000</td>\n",
       "      <td>8524.000000</td>\n",
       "    </tr>\n",
       "    <tr>\n",
       "      <th>mean</th>\n",
       "      <td>41.045753</td>\n",
       "      <td>1080.669052</td>\n",
       "      <td>2.786954</td>\n",
       "      <td>32.301267</td>\n",
       "      <td>0.436415</td>\n",
       "      <td>149.692985</td>\n",
       "    </tr>\n",
       "    <tr>\n",
       "      <th>std</th>\n",
       "      <td>10.523894</td>\n",
       "      <td>1715.537388</td>\n",
       "      <td>3.061747</td>\n",
       "      <td>90.824835</td>\n",
       "      <td>1.630640</td>\n",
       "      <td>73.372969</td>\n",
       "    </tr>\n",
       "    <tr>\n",
       "      <th>min</th>\n",
       "      <td>18.000000</td>\n",
       "      <td>-4057.000000</td>\n",
       "      <td>1.000000</td>\n",
       "      <td>-1.000000</td>\n",
       "      <td>0.000000</td>\n",
       "      <td>-42.000000</td>\n",
       "    </tr>\n",
       "    <tr>\n",
       "      <th>25%</th>\n",
       "      <td>33.000000</td>\n",
       "      <td>63.000000</td>\n",
       "      <td>1.000000</td>\n",
       "      <td>-1.000000</td>\n",
       "      <td>0.000000</td>\n",
       "      <td>105.000000</td>\n",
       "    </tr>\n",
       "    <tr>\n",
       "      <th>50%</th>\n",
       "      <td>39.000000</td>\n",
       "      <td>430.000000</td>\n",
       "      <td>2.000000</td>\n",
       "      <td>-1.000000</td>\n",
       "      <td>0.000000</td>\n",
       "      <td>166.000000</td>\n",
       "    </tr>\n",
       "    <tr>\n",
       "      <th>75%</th>\n",
       "      <td>49.000000</td>\n",
       "      <td>1363.250000</td>\n",
       "      <td>3.000000</td>\n",
       "      <td>-1.000000</td>\n",
       "      <td>0.000000</td>\n",
       "      <td>191.000000</td>\n",
       "    </tr>\n",
       "    <tr>\n",
       "      <th>max</th>\n",
       "      <td>90.000000</td>\n",
       "      <td>11115.000000</td>\n",
       "      <td>51.000000</td>\n",
       "      <td>792.000000</td>\n",
       "      <td>55.000000</td>\n",
       "      <td>316.000000</td>\n",
       "    </tr>\n",
       "  </tbody>\n",
       "</table>\n",
       "</div>"
      ],
      "text/plain": [
       "               age       balance     campaign        pdays     previous  \\\n",
       "count  8524.000000   8524.000000  8524.000000  8524.000000  8524.000000   \n",
       "mean     41.045753   1080.669052     2.786954    32.301267     0.436415   \n",
       "std      10.523894   1715.537388     3.061747    90.824835     1.630640   \n",
       "min      18.000000  -4057.000000     1.000000    -1.000000     0.000000   \n",
       "25%      33.000000     63.000000     1.000000    -1.000000     0.000000   \n",
       "50%      39.000000    430.000000     2.000000    -1.000000     0.000000   \n",
       "75%      49.000000   1363.250000     3.000000    -1.000000     0.000000   \n",
       "max      90.000000  11115.000000    51.000000   792.000000    55.000000   \n",
       "\n",
       "       last_contact  \n",
       "count   8524.000000  \n",
       "mean     149.692985  \n",
       "std       73.372969  \n",
       "min      -42.000000  \n",
       "25%      105.000000  \n",
       "50%      166.000000  \n",
       "75%      191.000000  \n",
       "max      316.000000  "
      ]
     },
     "execution_count": 4,
     "metadata": {},
     "output_type": "execute_result"
    }
   ],
   "source": [
    "df_cleaned.describe()"
   ]
  },
  {
   "cell_type": "code",
   "execution_count": 5,
   "id": "6da8e5e9",
   "metadata": {},
   "outputs": [
    {
     "data": {
      "text/plain": [
       "age              int64\n",
       "job             object\n",
       "marital         object\n",
       "education       object\n",
       "default         object\n",
       "balance          int64\n",
       "housing         object\n",
       "loan            object\n",
       "contact         object\n",
       "campaign         int64\n",
       "pdays            int64\n",
       "previous         int64\n",
       "poutcome        object\n",
       "y               object\n",
       "last_contact     int64\n",
       "dtype: object"
      ]
     },
     "execution_count": 5,
     "metadata": {},
     "output_type": "execute_result"
    }
   ],
   "source": [
    "df_cleaned.dtypes"
   ]
  },
  {
   "cell_type": "markdown",
   "id": "6eeea5cd",
   "metadata": {},
   "source": [
    "### Dummy variable creation for categorical columns\n",
    "\n",
    "- Used a new variable prefix to store the column name and used a for loop to iterate over all the object datatypes\n",
    "- After that appended each of dummy variable to the prefix. used a valid name for each column \n",
    "- changed any appearance of hypen ‘-‘ with underscore ‘_’"
   ]
  },
  {
   "cell_type": "code",
   "execution_count": 6,
   "id": "a47f102b",
   "metadata": {
    "scrolled": true
   },
   "outputs": [
    {
     "name": "stdout",
     "output_type": "stream",
     "text": [
      "       age  balance  campaign  pdays  previous  last_contact  job_blue_collar  \\\n",
      "0       58     2143         1     -1         0           197                0   \n",
      "2       33        2         1     -1         0           197                0   \n",
      "11      29      390         1     -1         0           197                0   \n",
      "12      53        6         1     -1         0           197                0   \n",
      "17      57       52         1     -1         0           197                1   \n",
      "...    ...      ...       ...    ...       ...           ...              ...   \n",
      "45196   25      358         1     -1         0             2                0   \n",
      "45201   53      583         1    184         4             1                0   \n",
      "45204   73     2850         1     40         8             1                0   \n",
      "45206   51      825         3     -1         0             1                0   \n",
      "45207   71     1729         2     -1         0             1                0   \n",
      "\n",
      "       job_entrepreneur  job_housemaid  job_management  ...  \\\n",
      "0                     0              0               1  ...   \n",
      "2                     1              0               0  ...   \n",
      "11                    0              0               0  ...   \n",
      "12                    0              0               0  ...   \n",
      "17                    0              0               0  ...   \n",
      "...                 ...            ...             ...  ...   \n",
      "45196                 0              0               0  ...   \n",
      "45201                 0              0               1  ...   \n",
      "45204                 0              0               0  ...   \n",
      "45206                 0              0               0  ...   \n",
      "45207                 0              0               0  ...   \n",
      "\n",
      "       education_secondary  education_tertiary  default_yes  housing_yes  \\\n",
      "0                        0                   1            0            1   \n",
      "2                        1                   0            0            1   \n",
      "11                       1                   0            0            1   \n",
      "12                       1                   0            0            1   \n",
      "17                       0                   0            0            1   \n",
      "...                    ...                 ...          ...          ...   \n",
      "45196                    1                   0            0            0   \n",
      "45201                    0                   1            0            0   \n",
      "45204                    1                   0            0            0   \n",
      "45206                    0                   1            0            0   \n",
      "45207                    0                   0            0            0   \n",
      "\n",
      "       loan_yes  contact_telephone  contact_unknown  poutcome_success  \\\n",
      "0             0                  0                1                 0   \n",
      "2             1                  0                1                 0   \n",
      "11            0                  0                1                 0   \n",
      "12            0                  0                1                 0   \n",
      "17            0                  0                1                 0   \n",
      "...         ...                ...              ...               ...   \n",
      "45196         0                  0                0                 0   \n",
      "45201         0                  0                0                 1   \n",
      "45204         0                  0                0                 0   \n",
      "45206         0                  0                0                 0   \n",
      "45207         0                  0                0                 0   \n",
      "\n",
      "       poutcome_unknown  y_yes  \n",
      "0                     1      0  \n",
      "2                     1      0  \n",
      "11                    1      0  \n",
      "12                    1      0  \n",
      "17                    1      0  \n",
      "...                 ...    ...  \n",
      "45196                 1      1  \n",
      "45201                 0      1  \n",
      "45204                 0      1  \n",
      "45206                 1      1  \n",
      "45207                 1      1  \n",
      "\n",
      "[8524 rows x 30 columns]\n"
     ]
    }
   ],
   "source": [
    "categorical_columns = df_cleaned.select_dtypes('object').columns\n",
    "dummy_dfs = []\n",
    "\n",
    "for column in categorical_columns:\n",
    "    prefix = column\n",
    "    dummies = pd.get_dummies(df_cleaned[column], prefix=prefix, drop_first=True)\n",
    "    dummies.columns = dummies.columns.map(lambda x: x.replace('-', '_'))\n",
    "    dummies = dummies.astype(int)\n",
    "    dummy_dfs.append(dummies)\n",
    "    df_cleaned.drop(column, axis=1, inplace=True)\n",
    "\n",
    "df_cleaned = pd.concat([df_cleaned] + dummy_dfs, axis=1)\n",
    "\n",
    "print(df_cleaned)"
   ]
  },
  {
   "cell_type": "markdown",
   "id": "f450bc64",
   "metadata": {},
   "source": [
    "### 4. Feature Selection and Scaling\n",
    "- Logistic Regression with max interation to use estimator for threshold"
   ]
  },
  {
   "cell_type": "code",
   "execution_count": 7,
   "id": "39d49529",
   "metadata": {},
   "outputs": [],
   "source": [
    "## Dropping the target variable to make a features array\n",
    "X = df_cleaned.drop('y_yes', axis=1)\n",
    "y = df_cleaned['y_yes']\n",
    "from sklearn.feature_selection import SelectFromModel\n",
    "from sklearn.linear_model import LogisticRegression"
   ]
  },
  {
   "cell_type": "code",
   "execution_count": 8,
   "id": "c2c4cfc9",
   "metadata": {},
   "outputs": [
    {
     "data": {
      "text/html": [
       "<div>\n",
       "<style scoped>\n",
       "    .dataframe tbody tr th:only-of-type {\n",
       "        vertical-align: middle;\n",
       "    }\n",
       "\n",
       "    .dataframe tbody tr th {\n",
       "        vertical-align: top;\n",
       "    }\n",
       "\n",
       "    .dataframe thead th {\n",
       "        text-align: right;\n",
       "    }\n",
       "</style>\n",
       "<table border=\"1\" class=\"dataframe\">\n",
       "  <thead>\n",
       "    <tr style=\"text-align: right;\">\n",
       "      <th></th>\n",
       "      <th>coef</th>\n",
       "      <th>select_feature</th>\n",
       "    </tr>\n",
       "  </thead>\n",
       "  <tbody>\n",
       "    <tr>\n",
       "      <th>age</th>\n",
       "      <td>-0.005312</td>\n",
       "      <td>False</td>\n",
       "    </tr>\n",
       "    <tr>\n",
       "      <th>balance</th>\n",
       "      <td>0.000081</td>\n",
       "      <td>False</td>\n",
       "    </tr>\n",
       "    <tr>\n",
       "      <th>campaign</th>\n",
       "      <td>-0.121232</td>\n",
       "      <td>False</td>\n",
       "    </tr>\n",
       "    <tr>\n",
       "      <th>pdays</th>\n",
       "      <td>-0.001980</td>\n",
       "      <td>False</td>\n",
       "    </tr>\n",
       "    <tr>\n",
       "      <th>previous</th>\n",
       "      <td>0.028989</td>\n",
       "      <td>False</td>\n",
       "    </tr>\n",
       "    <tr>\n",
       "      <th>last_contact</th>\n",
       "      <td>0.001132</td>\n",
       "      <td>False</td>\n",
       "    </tr>\n",
       "    <tr>\n",
       "      <th>job_blue_collar</th>\n",
       "      <td>0.006223</td>\n",
       "      <td>False</td>\n",
       "    </tr>\n",
       "    <tr>\n",
       "      <th>job_entrepreneur</th>\n",
       "      <td>-0.212416</td>\n",
       "      <td>False</td>\n",
       "    </tr>\n",
       "    <tr>\n",
       "      <th>job_housemaid</th>\n",
       "      <td>-0.303468</td>\n",
       "      <td>True</td>\n",
       "    </tr>\n",
       "    <tr>\n",
       "      <th>job_management</th>\n",
       "      <td>-0.221429</td>\n",
       "      <td>False</td>\n",
       "    </tr>\n",
       "    <tr>\n",
       "      <th>job_other</th>\n",
       "      <td>0.001559</td>\n",
       "      <td>False</td>\n",
       "    </tr>\n",
       "    <tr>\n",
       "      <th>job_retired</th>\n",
       "      <td>0.624410</td>\n",
       "      <td>True</td>\n",
       "    </tr>\n",
       "    <tr>\n",
       "      <th>job_self_employed</th>\n",
       "      <td>-0.136710</td>\n",
       "      <td>False</td>\n",
       "    </tr>\n",
       "    <tr>\n",
       "      <th>job_services</th>\n",
       "      <td>-0.175750</td>\n",
       "      <td>False</td>\n",
       "    </tr>\n",
       "    <tr>\n",
       "      <th>job_student</th>\n",
       "      <td>0.166883</td>\n",
       "      <td>False</td>\n",
       "    </tr>\n",
       "    <tr>\n",
       "      <th>job_technician</th>\n",
       "      <td>-0.215471</td>\n",
       "      <td>False</td>\n",
       "    </tr>\n",
       "    <tr>\n",
       "      <th>job_unemployed</th>\n",
       "      <td>0.013410</td>\n",
       "      <td>False</td>\n",
       "    </tr>\n",
       "    <tr>\n",
       "      <th>marital_married</th>\n",
       "      <td>-0.281072</td>\n",
       "      <td>False</td>\n",
       "    </tr>\n",
       "    <tr>\n",
       "      <th>marital_single</th>\n",
       "      <td>0.053967</td>\n",
       "      <td>False</td>\n",
       "    </tr>\n",
       "    <tr>\n",
       "      <th>education_primary</th>\n",
       "      <td>-0.352333</td>\n",
       "      <td>True</td>\n",
       "    </tr>\n",
       "    <tr>\n",
       "      <th>education_secondary</th>\n",
       "      <td>-0.150214</td>\n",
       "      <td>False</td>\n",
       "    </tr>\n",
       "    <tr>\n",
       "      <th>education_tertiary</th>\n",
       "      <td>0.066745</td>\n",
       "      <td>False</td>\n",
       "    </tr>\n",
       "    <tr>\n",
       "      <th>default_yes</th>\n",
       "      <td>-0.082028</td>\n",
       "      <td>False</td>\n",
       "    </tr>\n",
       "    <tr>\n",
       "      <th>housing_yes</th>\n",
       "      <td>-0.588685</td>\n",
       "      <td>True</td>\n",
       "    </tr>\n",
       "    <tr>\n",
       "      <th>loan_yes</th>\n",
       "      <td>-0.626238</td>\n",
       "      <td>True</td>\n",
       "    </tr>\n",
       "    <tr>\n",
       "      <th>contact_telephone</th>\n",
       "      <td>-0.177608</td>\n",
       "      <td>False</td>\n",
       "    </tr>\n",
       "    <tr>\n",
       "      <th>contact_unknown</th>\n",
       "      <td>-1.050553</td>\n",
       "      <td>True</td>\n",
       "    </tr>\n",
       "    <tr>\n",
       "      <th>poutcome_success</th>\n",
       "      <td>1.781980</td>\n",
       "      <td>True</td>\n",
       "    </tr>\n",
       "    <tr>\n",
       "      <th>poutcome_unknown</th>\n",
       "      <td>-0.721008</td>\n",
       "      <td>True</td>\n",
       "    </tr>\n",
       "  </tbody>\n",
       "</table>\n",
       "</div>"
      ],
      "text/plain": [
       "                         coef  select_feature\n",
       "age                 -0.005312           False\n",
       "balance              0.000081           False\n",
       "campaign            -0.121232           False\n",
       "pdays               -0.001980           False\n",
       "previous             0.028989           False\n",
       "last_contact         0.001132           False\n",
       "job_blue_collar      0.006223           False\n",
       "job_entrepreneur    -0.212416           False\n",
       "job_housemaid       -0.303468            True\n",
       "job_management      -0.221429           False\n",
       "job_other            0.001559           False\n",
       "job_retired          0.624410            True\n",
       "job_self_employed   -0.136710           False\n",
       "job_services        -0.175750           False\n",
       "job_student          0.166883           False\n",
       "job_technician      -0.215471           False\n",
       "job_unemployed       0.013410           False\n",
       "marital_married     -0.281072           False\n",
       "marital_single       0.053967           False\n",
       "education_primary   -0.352333            True\n",
       "education_secondary -0.150214           False\n",
       "education_tertiary   0.066745           False\n",
       "default_yes         -0.082028           False\n",
       "housing_yes         -0.588685            True\n",
       "loan_yes            -0.626238            True\n",
       "contact_telephone   -0.177608           False\n",
       "contact_unknown     -1.050553            True\n",
       "poutcome_success     1.781980            True\n",
       "poutcome_unknown    -0.721008            True"
      ]
     },
     "execution_count": 8,
     "metadata": {},
     "output_type": "execute_result"
    }
   ],
   "source": [
    "method_logreg = SelectFromModel(estimator=LogisticRegression(max_iter=5000)) \n",
    "method_logreg.fit(X, y)\n",
    "\n",
    "pd.DataFrame({'coef': method_logreg.estimator_.coef_[0], \n",
    "            'select_feature' : method_logreg.get_support()}, \n",
    "             index=X.columns)"
   ]
  },
  {
   "cell_type": "markdown",
   "id": "8a9daf2e",
   "metadata": {},
   "source": [
    "### Scaling features and then checking shape of feature array"
   ]
  },
  {
   "cell_type": "code",
   "execution_count": 9,
   "id": "42b3da3e",
   "metadata": {},
   "outputs": [
    {
     "data": {
      "text/plain": [
       "(8524, 8)"
      ]
     },
     "execution_count": 9,
     "metadata": {},
     "output_type": "execute_result"
    }
   ],
   "source": [
    "method_logreg.threshold_\n",
    "method_logreg.get_support()\n",
    "X_2 = method_logreg.transform(X)\n",
    "X_2.shape\n",
    "\n",
    "## X_2 is the feature array selected with 7 features."
   ]
  },
  {
   "cell_type": "markdown",
   "id": "c1caa263",
   "metadata": {},
   "source": [
    "### Feature Selection using Support Vector Machines  hyperparameter value 0.001"
   ]
  },
  {
   "cell_type": "code",
   "execution_count": 10,
   "id": "20879154",
   "metadata": {
    "scrolled": true
   },
   "outputs": [
    {
     "name": "stdout",
     "output_type": "stream",
     "text": [
      "Selected Features using Linear SVM:\n",
      "[ 0  1  2  3  5 23]\n",
      "(8524, 6)\n"
     ]
    },
    {
     "name": "stderr",
     "output_type": "stream",
     "text": [
      "C:\\Users\\D\\anaconda3\\Lib\\site-packages\\sklearn\\base.py:457: UserWarning: X has feature names, but SelectFromModel was fitted without feature names\n",
      "  warnings.warn(\n"
     ]
    }
   ],
   "source": [
    "from sklearn.svm import LinearSVC\n",
    "from sklearn.feature_selection import SelectFromModel\n",
    "\n",
    "svm = LinearSVC(C=0.001, penalty='l1', dual=False)\n",
    "svm.fit(X, y)\n",
    "\n",
    "model_svm = SelectFromModel(svm, prefit=True)\n",
    "selected_features_svm = model_svm.get_support(indices=True)\n",
    "X_selected_svm = model_svm.transform(X)\n",
    "\n",
    "print(\"Selected Features using Linear SVM:\")\n",
    "print(selected_features_svm)\n",
    "print(X_selected_svm.shape)\n",
    "\n",
    "\n",
    "\n",
    "df = pd.DataFrame(X_selected_svm, columns=selected_features_svm)\n",
    "\n",
    "\n",
    "df.to_csv(\"feature1.csv\", index=False) \n",
    "## selected_features_svm is the feature selection array for svm"
   ]
  },
  {
   "cell_type": "markdown",
   "id": "98f85cde",
   "metadata": {},
   "source": [
    "### Feature Selection using Select K Best  "
   ]
  },
  {
   "cell_type": "code",
   "execution_count": 11,
   "id": "8e83ec24",
   "metadata": {},
   "outputs": [
    {
     "name": "stdout",
     "output_type": "stream",
     "text": [
      "Selected Features using Linear SVM:\n",
      "(8524, 6)\n",
      "Selected Features using SelectKBest with mutual_info_classif:\n",
      "[ 0  1  2  3  5  7 23 26 27 28]\n"
     ]
    },
    {
     "name": "stderr",
     "output_type": "stream",
     "text": [
      "C:\\Users\\D\\anaconda3\\Lib\\site-packages\\sklearn\\base.py:457: UserWarning: X has feature names, but SelectFromModel was fitted without feature names\n",
      "  warnings.warn(\n"
     ]
    }
   ],
   "source": [
    "from sklearn.feature_selection import SelectKBest, mutual_info_classif\n",
    "selector = SelectKBest(score_func=mutual_info_classif, k=10)\n",
    "X_selected = selector.fit_transform(X, y)\n",
    "\n",
    "\n",
    "selected_feature_k = selector.get_support(indices=True)\n",
    "model_svm = SelectFromModel(svm, prefit=True)\n",
    "X_selected_svm = model_svm.transform(X)\n",
    "\n",
    "print(\"Selected Features using Linear SVM:\")\n",
    "print(X_selected_svm.shape) \n",
    "\n",
    "selected_columns_k = X.columns[selected_feature_k];\n",
    "print(\"Selected Features using SelectKBest with mutual_info_classif:\")\n",
    "print(selected_feature_k)\n",
    "\n",
    "\n",
    "## selected_columns_k is the feature selection array for selectk best "
   ]
  },
  {
   "cell_type": "markdown",
   "id": "39f3955a",
   "metadata": {},
   "source": [
    "### 5. Classifier Modelling"
   ]
  },
  {
   "cell_type": "markdown",
   "id": "9c5bd140",
   "metadata": {},
   "source": [
    "### Divide the dataset into training and test sets with ratio 75:25"
   ]
  },
  {
   "cell_type": "code",
   "execution_count": 12,
   "id": "cdad30e2",
   "metadata": {},
   "outputs": [],
   "source": [
    "from sklearn.model_selection import train_test_split\n",
    "\n",
    "X_train, X_test, y_train, y_test = train_test_split(X_selected_svm, y, test_size=0.25, random_state=42)"
   ]
  },
  {
   "cell_type": "markdown",
   "id": "3edd9a89",
   "metadata": {},
   "source": [
    "### Import classifiers needed\n",
    "- Naïve Bayes classifier\n",
    "- KNN\n",
    "- Decision tree classifier\n",
    "- Random forest classifier"
   ]
  },
  {
   "cell_type": "code",
   "execution_count": 13,
   "id": "9c895b3e",
   "metadata": {},
   "outputs": [],
   "source": [
    "from sklearn.pipeline import Pipeline\n",
    "from sklearn.model_selection import cross_val_score, KFold\n",
    "from sklearn.preprocessing import StandardScaler\n",
    "\n",
    "from sklearn.naive_bayes import GaussianNB\n",
    "from sklearn.neighbors import KNeighborsClassifier\n",
    "from sklearn.tree import DecisionTreeClassifier\n",
    "from sklearn.ensemble import RandomForestClassifier"
   ]
  },
  {
   "cell_type": "markdown",
   "id": "0b75d994",
   "metadata": {},
   "source": [
    "### Using a pipeline to implement the classifier models with cross-validation and calculate the mean value "
   ]
  },
  {
   "cell_type": "code",
   "execution_count": 14,
   "id": "2c491df1",
   "metadata": {},
   "outputs": [
    {
     "name": "stdout",
     "output_type": "stream",
     "text": [
      "GaussianNB()\n",
      "Scores:  [0.85770133 0.85770133 0.83893667 0.85211268 0.83333333]\n",
      "Scores mean:  0.8479570673978717\n",
      "KNeighborsClassifier(n_neighbors=3)\n",
      "Scores:  [0.8663018  0.88193901 0.86317435 0.87167449 0.86619718]\n",
      "Scores mean:  0.8698573685182941\n",
      "DecisionTreeClassifier(max_depth=5)\n",
      "Scores:  [0.87881157 0.89210321 0.87646599 0.88262911 0.88262911]\n",
      "Scores mean:  0.8825277964372106\n",
      "RandomForestClassifier(max_depth=5)\n",
      "Scores:  [0.88115715 0.90148554 0.88350274 0.885759   0.88654147]\n",
      "Scores mean:  0.8876891791195438\n"
     ]
    }
   ],
   "source": [
    "# An array with the name of the classifiers used\n",
    "names = [\"Naive Bayes\", \"Nearest Neighbors\", \"Decision Tree\", \"Random Forest\"]\n",
    "\n",
    "# An array that will hold the mean scores of each classifier\n",
    "scores_mean = []\n",
    "\n",
    "# Definning the k-fold cross-validation parameter\n",
    "kfold = KFold(n_splits = 5)\n",
    "\n",
    "classifiers =[\n",
    "    GaussianNB(),\n",
    "    KNeighborsClassifier(3),\n",
    "    DecisionTreeClassifier(max_depth=5),\n",
    "    RandomForestClassifier(n_estimators=100, max_depth=5)\n",
    "]\n",
    "\n",
    "for classifier in classifiers:\n",
    "    pipeline = Pipeline(steps=[\n",
    "                ('scaler', StandardScaler()),\n",
    "                ('classifier', classifier)\n",
    "        ])\n",
    "    print(classifier)\n",
    "    scores = cross_val_score(pipeline, X_train, y_train, cv=kfold)\n",
    "    print(\"Scores: \", scores)\n",
    "    print(\"Scores mean: \", scores.mean())\n",
    "    scores_mean.append(scores.mean())\n",
    "    "
   ]
  },
  {
   "cell_type": "code",
   "execution_count": 15,
   "id": "bf99e60f",
   "metadata": {},
   "outputs": [
    {
     "name": "stdout",
     "output_type": "stream",
     "text": [
      "The best classifier is: Random Forest\n"
     ]
    }
   ],
   "source": [
    "best_classifier_index = np.argmax(scores_mean)\n",
    "best_classifier_name = names[best_classifier_index]\n",
    "\n",
    "print(f\"The best classifier is: {best_classifier_name}\")"
   ]
  },
  {
   "cell_type": "markdown",
   "id": "fab674cc",
   "metadata": {},
   "source": [
    "### Displaying the mean accuracy scores in a list "
   ]
  },
  {
   "cell_type": "code",
   "execution_count": 16,
   "id": "ee4a998a",
   "metadata": {},
   "outputs": [
    {
     "data": {
      "text/html": [
       "<div>\n",
       "<style scoped>\n",
       "    .dataframe tbody tr th:only-of-type {\n",
       "        vertical-align: middle;\n",
       "    }\n",
       "\n",
       "    .dataframe tbody tr th {\n",
       "        vertical-align: top;\n",
       "    }\n",
       "\n",
       "    .dataframe thead th {\n",
       "        text-align: right;\n",
       "    }\n",
       "</style>\n",
       "<table border=\"1\" class=\"dataframe\">\n",
       "  <thead>\n",
       "    <tr style=\"text-align: right;\">\n",
       "      <th></th>\n",
       "      <th>Classifier</th>\n",
       "      <th>Accuracy</th>\n",
       "    </tr>\n",
       "  </thead>\n",
       "  <tbody>\n",
       "    <tr>\n",
       "      <th>0</th>\n",
       "      <td>Naive Bayes</td>\n",
       "      <td>0.847957</td>\n",
       "    </tr>\n",
       "    <tr>\n",
       "      <th>1</th>\n",
       "      <td>Nearest Neighbors</td>\n",
       "      <td>0.869857</td>\n",
       "    </tr>\n",
       "    <tr>\n",
       "      <th>2</th>\n",
       "      <td>Decision Tree</td>\n",
       "      <td>0.882528</td>\n",
       "    </tr>\n",
       "    <tr>\n",
       "      <th>3</th>\n",
       "      <td>Random Forest</td>\n",
       "      <td>0.887689</td>\n",
       "    </tr>\n",
       "  </tbody>\n",
       "</table>\n",
       "</div>"
      ],
      "text/plain": [
       "          Classifier  Accuracy\n",
       "0        Naive Bayes  0.847957\n",
       "1  Nearest Neighbors  0.869857\n",
       "2      Decision Tree  0.882528\n",
       "3      Random Forest  0.887689"
      ]
     },
     "execution_count": 16,
     "metadata": {},
     "output_type": "execute_result"
    }
   ],
   "source": [
    "scores_df = pd.DataFrame(zip(names, scores_mean), \\\n",
    "                         columns=['Classifier', 'Accuracy'])\n",
    "scores_df"
   ]
  },
  {
   "cell_type": "markdown",
   "id": "780d9f92",
   "metadata": {},
   "source": [
    "### Getting the best mean accuracy from the scores_mean array"
   ]
  },
  {
   "cell_type": "code",
   "execution_count": 17,
   "id": "f94ab5d8",
   "metadata": {
    "scrolled": true
   },
   "outputs": [
    {
     "name": "stdout",
     "output_type": "stream",
     "text": [
      "Best mean accuracy score from the training dataset: 0.8876891791195438\n"
     ]
    }
   ],
   "source": [
    "print(\"Best mean accuracy score from the training dataset:\", max(scores_mean))\n",
    "\n",
    "#Select Random Forest as it has the best mean -> 0.887846"
   ]
  },
  {
   "cell_type": "code",
   "execution_count": 18,
   "id": "d17c45b7",
   "metadata": {},
   "outputs": [],
   "source": [
    "from sklearn.ensemble import RandomForestClassifier\n",
    "from sklearn.feature_selection import SelectFromModel\n",
    "from sklearn.preprocessing import RobustScaler\n",
    "import pandas as pd\n",
    "import joblib"
   ]
  },
  {
   "cell_type": "code",
   "execution_count": 19,
   "id": "6ff00196",
   "metadata": {},
   "outputs": [],
   "source": [
    "rf = RandomForestClassifier(n_estimators=100, random_state=42)\n",
    "selector = SelectFromModel(estimator=rf, max_features=10)  # Change 'max_features' as desired\n",
    "X_selected_rf = selector.fit_transform(X, y)\n",
    "scaler = RobustScaler()\n",
    "\n",
    "X_scaled = scaler.fit_transform(X_selected_rf)\n",
    "\n",
    "joblib.dump(scaler, 'robust_scaler_model.pkl')\n",
    "\n",
    "\n",
    "selected_features_df = pd.DataFrame(X_scaled, columns=[f\"feature_{i}\" for i in range(X_selected_rf.shape[1])])\n",
    "\n",
    "selected_features_df.to_csv(\"feature2.csv\", index=False)"
   ]
  },
  {
   "cell_type": "markdown",
   "id": "321a3dec",
   "metadata": {},
   "source": [
    "### 6.  Using classifier on new feature2"
   ]
  },
  {
   "cell_type": "code",
   "execution_count": 20,
   "id": "c669b0a4",
   "metadata": {
    "scrolled": true
   },
   "outputs": [
    {
     "name": "stdout",
     "output_type": "stream",
     "text": [
      "Mean Cross-Validation Scores:\n",
      "NB: 0.8473341833639767\n",
      "KNN: 0.8789313917255857\n",
      "DecisionTree: 0.8382592648252467\n",
      "RandomForest: 0.8900358954008333\n",
      "\n",
      "The best classifier is: RandomForest\n"
     ]
    }
   ],
   "source": [
    "X_train_f2, X_test_f2, y_train_f2, y_test_f2 = train_test_split(selected_features_df, y, test_size=0.25, random_state=42)\n",
    "\n",
    "\n",
    "nb_classifier = GaussianNB()\n",
    "knn_classifier = KNeighborsClassifier()\n",
    "dt_classifier = DecisionTreeClassifier(random_state=42)\n",
    "rf_classifier = RandomForestClassifier(n_estimators=100, random_state=42)\n",
    "\n",
    "pipelines = [\n",
    "    ('NB', Pipeline([('scaler', RobustScaler()), ('clf', nb_classifier)])),\n",
    "    ('KNN', Pipeline([('scaler', RobustScaler()), ('clf', knn_classifier)])),\n",
    "    ('DecisionTree', Pipeline([('scaler', RobustScaler()), ('clf', dt_classifier)])),\n",
    "    ('RandomForest', Pipeline([('scaler', RobustScaler()), ('clf', rf_classifier)]))\n",
    "]\n",
    "\n",
    "score_mean_f2 = []\n",
    "cv_scores = []\n",
    "\n",
    "for name, pipeline in pipelines:\n",
    "    kfold = KFold(n_splits=4, shuffle=True, random_state=42)  # You can change the number of splits here\n",
    "    cv_results = cross_val_score(pipeline, X_train, y_train, cv=kfold, scoring='accuracy')\n",
    "    cv_scores.append((name, np.mean(cv_results)))\n",
    "    \n",
    "    \n",
    "best_classifier_f2 = max(cv_scores, key=lambda x: x[1])[0]\n",
    "\n",
    "print(\"Mean Cross-Validation Scores:\")\n",
    "for name, mean_score in cv_scores:\n",
    "    print(f\"{name}: {mean_score}\")\n",
    "    score_mean_f2.append(mean_score)\n",
    "\n",
    "print(f\"\\nThe best classifier is: {best_classifier_f2}\")\n",
    "\n"
   ]
  },
  {
   "cell_type": "code",
   "execution_count": 21,
   "id": "5abd9daa",
   "metadata": {
    "scrolled": true
   },
   "outputs": [
    {
     "name": "stdout",
     "output_type": "stream",
     "text": [
      "Accuracy for First Try\n",
      "          Classifier  Accuracy\n",
      "0        Naive Bayes  0.847957\n",
      "1  Nearest Neighbors  0.869857\n",
      "2      Decision Tree  0.882528\n",
      "3      Random Forest  0.887689\n",
      "Accuracy for second Try\n",
      "          Classifier  Accuracy\n",
      "0        Naive Bayes  0.847334\n",
      "1  Nearest Neighbors  0.878931\n",
      "2      Decision Tree  0.838259\n",
      "3      Random Forest  0.890036\n",
      "Number of features for first Try - 6\n",
      "Number of features for Second Try -5\n"
     ]
    }
   ],
   "source": [
    "scores_df2 = pd.DataFrame(zip(names, score_mean_f2), \\\n",
    "                         columns=['Classifier', 'Accuracy'])\n",
    "\n",
    "print(\"Accuracy for First Try\")\n",
    "print(scores_df)\n",
    "\n",
    "print(\"Accuracy for second Try\")\n",
    "print(scores_df2)\n",
    "\n",
    "\n",
    "print(\"Number of features for first Try - 6\")\n",
    "print(\"Number of features for Second Try -5\")"
   ]
  },
  {
   "cell_type": "markdown",
   "id": "2b53af7f",
   "metadata": {},
   "source": [
    "## 7. Model Evaluation ROC curve"
   ]
  },
  {
   "cell_type": "markdown",
   "id": "03ee3389",
   "metadata": {},
   "source": [
    "### Accuracy of the model in the test set "
   ]
  },
  {
   "cell_type": "code",
   "execution_count": 24,
   "id": "ad8d26d2",
   "metadata": {},
   "outputs": [
    {
     "name": "stdout",
     "output_type": "stream",
     "text": [
      "Accuracy on Test Set: 0.8939465039887377\n"
     ]
    }
   ],
   "source": [
    "rf_classifier.fit(X_train_f2, y_train_f2)\n",
    "acc_test_set = rf_classifier.score(X_test_f2, y_test_f2)\n",
    "\n",
    "print('Accuracy on Test Set:', acc_test_set)"
   ]
  },
  {
   "cell_type": "markdown",
   "id": "0a2f9ccf",
   "metadata": {},
   "source": [
    "### Confusion Matrix"
   ]
  },
  {
   "cell_type": "code",
   "execution_count": 42,
   "id": "a2e780de",
   "metadata": {},
   "outputs": [],
   "source": [
    "from sklearn.metrics import confusion_matrix\n",
    "\n",
    "Y_pred = rf_classifier.predict(X_test_f2)\n",
    "\n",
    "conf_matrix = confusion_matrix(y_test_f2, Y_pred)\n"
   ]
  },
  {
   "cell_type": "code",
   "execution_count": 39,
   "id": "20f1ac7c",
   "metadata": {},
   "outputs": [
    {
     "data": {
      "text/plain": [
       "<Axes: xlabel='Predicted', ylabel='Actual'>"
      ]
     },
     "execution_count": 39,
     "metadata": {},
     "output_type": "execute_result"
    },
    {
     "data": {
      "image/png": "[encoded data removed]",
      "text/plain": [
       "<Figure size 400x400 with 1 Axes>"
      ]
     },
     "metadata": {},
     "output_type": "display_data"
    }
   ],
   "source": [
    "#Generate seaborn heatmap for the confusion matrix\n",
    "import matplotlib.pyplot as plt\n",
    "import seaborn as sns\n",
    "import numpy as np\n",
    "\n",
    "df_cm = pd.DataFrame(conf_matrix, columns=np.unique(y_test_f2), index = np.unique(y_test_f2))\n",
    "df_cm.index.name = 'Actual'\n",
    "df_cm.columns.name = 'Predicted'\n",
    "plt.figure(figsize = (4,4))\n",
    "sns.set(font_scale=1.2)#for label size\n",
    "sns.heatmap(df_cm, annot=True,annot_kws={\"size\": 12}, cbar=False,\n",
    "          vmax=300, square=True, fmt=\"d\", cmap=\"Greens\")"
   ]
  },
  {
   "cell_type": "markdown",
   "id": "fb17b704",
   "metadata": {},
   "source": [
    "### Classification report"
   ]
  },
  {
   "cell_type": "code",
   "execution_count": 43,
   "id": "9ce00ade",
   "metadata": {},
   "outputs": [
    {
     "name": "stdout",
     "output_type": "stream",
     "text": [
      "              precision    recall  f1-score   support\n",
      "\n",
      "           0       0.91      0.98      0.94      1896\n",
      "           1       0.55      0.20      0.29       235\n",
      "\n",
      "    accuracy                           0.89      2131\n",
      "   macro avg       0.73      0.59      0.62      2131\n",
      "weighted avg       0.87      0.89      0.87      2131\n",
      "\n"
     ]
    }
   ],
   "source": [
    "from sklearn.metrics import classification_report\n",
    "print(classification_report(y_test_f2, Y_pred))"
   ]
  },
  {
   "cell_type": "markdown",
   "id": "f64c63dc",
   "metadata": {},
   "source": [
    "### ROC curve"
   ]
  },
  {
   "cell_type": "code",
   "execution_count": 45,
   "id": "5639f83b",
   "metadata": {
    "scrolled": true
   },
   "outputs": [
    {
     "data": {
      "image/png": "[encoded data removed]",
      "text/plain": [
       "<Figure size 640x480 with 1 Axes>"
      ]
     },
     "metadata": {},
     "output_type": "display_data"
    }
   ],
   "source": [
    "from sklearn.metrics import roc_auc_score\n",
    "from sklearn.metrics import roc_curve\n",
    "\n",
    "logit_roc_auc = roc_auc_score(y_test_f2, rf_classifier.predict(X_test_f2))\n",
    "fpr, tpr, thresholds = roc_curve(y_test_f2, rf_classifier.predict_proba(X_test_f2)[:,1])\n",
    "\n",
    "plt.figure()\n",
    "plt.plot(fpr, tpr, label='Logistic Regression (area = %0.2f)' % logit_roc_auc)\n",
    "plt.plot([0, 1], [0, 1],'r--')\n",
    "plt.xlim([0.0, 1.0])\n",
    "plt.ylim([0.0, 1.05])\n",
    "plt.xlabel('False Positive Rate')\n",
    "plt.ylabel('True Positive Rate')\n",
    "plt.title('Receiver operating characteristic')\n",
    "plt.legend(loc=\"lower right\")\n",
    "plt.show()"
   ]
  },
  {
   "cell_type": "markdown",
   "id": "34fea08a",
   "metadata": {},
   "source": [
    "### TODO: Analysis\n",
    "You should see that the number of false negative is quite big. It is easier for the classifier to determine\n",
    "the rejection (class 0), than to predict that the client will sign into the new banking product. Provide\n",
    "your insights on the possible cause or a way to improve our classifier performance"
   ]
  },
  {
   "cell_type": "markdown",
   "id": "e36624f5",
   "metadata": {},
   "source": [
    "## Member Contribution Matrix\n",
    "|Cont| Ishu | Seu | David |\n",
    "|---|---|---|---|\n",
    "| Ishu|x|2|4|\n",
    "| Seu| 4|x|4|\n",
    "| David |4|4|x|"
   ]
  }
 ],
 "metadata": {
  "kernelspec": {
   "display_name": "Python 3 (ipykernel)",
   "language": "python",
   "name": "python3"
  },
  "language_info": {
   "codemirror_mode": {
    "name": "ipython",
    "version": 3
   },
   "file_extension": ".py",
   "mimetype": "text/x-python",
   "name": "python",
   "nbconvert_exporter": "python",
   "pygments_lexer": "ipython3",
   "version": "3.11.4"
  }
 },
 "nbformat": 4,
 "nbformat_minor": 5
}
