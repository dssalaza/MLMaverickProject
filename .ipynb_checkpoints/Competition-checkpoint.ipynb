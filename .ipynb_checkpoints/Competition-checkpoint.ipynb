{
 "cells": [
  {
   "cell_type": "markdown",
   "id": "9fecdbc3",
   "metadata": {},
   "source": [
    "## Part B Machine learning project. \n",
    "\n",
    "MLMaverick Team\n",
    "- Seulah Lee 300361747\n",
    "- David Steven Salazar Villegas 300356922\n",
    "- Ishwinder Singh 300351938"
   ]
  },
  {
   "cell_type": "markdown",
   "id": "8099d88e",
   "metadata": {},
   "source": [
    "## Importing Libraries (Collection of functions)\n",
    "- **numpy** :  to perform a wide variety of mathematical operations on arrays\n",
    "- **pandas** : to perform data manipulation that involves cleaning, transforming, and organizing data so that datset can be effectively analyzed\n",
    "- **matplotlib.pyplot** : to view or present data in a pictorial or graphical format. Each pyplot function makes some change to a figure: e.g., creates a figure, creates a plotting area in a figure, etc."
   ]
  },
  {
   "cell_type": "code",
   "execution_count": 1,
   "id": "9df14ae9",
   "metadata": {},
   "outputs": [],
   "source": [
    "import numpy as np\n",
    "import pandas as pd\n",
    "import matplotlib.pyplot as plt"
   ]
  },
  {
   "cell_type": "code",
   "execution_count": 2,
   "id": "888d4e6d",
   "metadata": {},
   "outputs": [],
   "source": [
    "df = pd.read_csv('competition_data.csv')"
   ]
  },
  {
   "cell_type": "code",
   "execution_count": 3,
   "id": "9166e3e8",
   "metadata": {},
   "outputs": [
    {
     "name": "stdout",
     "output_type": "stream",
     "text": [
      "lower limit:  Index([  74,   78, 2988, 2991, 3009, 3014, 3090, 3328, 3329, 3330, 3334, 3376,\n",
      "       3377, 3388, 3403, 3422, 3424, 3439, 3444, 3456, 3457, 3458, 3468, 3502,\n",
      "       3511, 3518, 3519, 3533, 3535, 3558, 3560, 3561, 3577, 3591, 3592, 3593,\n",
      "       3611, 3612, 3613, 3615, 3688, 3726, 3727, 3729, 3740, 3757, 3758, 3759,\n",
      "       3760, 3855],\n",
      "      dtype='int64')\n",
      "upper limit:  Index([], dtype='int64')\n",
      "number of records:  50\n",
      "This dataset has 3847 data points with 13 variables.\n"
     ]
    }
   ],
   "source": [
    "mean = np.mean(df[\"year\"])\n",
    "std = np.std(df[\"year\"])\n",
    "lower_limit = df.loc[df[\"year\"] < (mean - 3*std) ].index\n",
    "upper_limit = df.loc[df[\"year\"] > (mean + 3*std) ].index\n",
    "print(\"lower limit: \", lower_limit)\n",
    "print(\"upper limit: \", upper_limit)\n",
    "print(\"number of records: \", len(lower_limit) + len(upper_limit))\n",
    "\n",
    "# drop them\n",
    "df.drop(lower_limit, inplace=True)\n",
    "df.drop(upper_limit, inplace=True)\n",
    "print(\"This dataset has {} data points with {} variables.\".format(*df.shape))\n"
   ]
  },
  {
   "cell_type": "code",
   "execution_count": 4,
   "id": "58e97005",
   "metadata": {
    "scrolled": true
   },
   "outputs": [
    {
     "name": "stdout",
     "output_type": "stream",
     "text": [
      "lower limit:  Index([], dtype='int64')\n",
      "upper limit:  Index([  11,   12,   26,   41,   53,   55,  136,  609,  649,  881,  949, 1243,\n",
      "       2832, 2859, 2865, 2874, 2878, 2907, 3000, 3001, 3002, 3003, 3004, 3005,\n",
      "       3006, 3007, 3008, 3013, 3025, 3181, 3182, 3190, 3241, 3267, 3268, 3270,\n",
      "       3272, 3298, 3299, 3300, 3301, 3308, 3310, 3311, 3314, 3315, 3316, 3317,\n",
      "       3365, 3382, 3402, 3417, 3418, 3440, 3441, 3448, 3452, 3464, 3474, 3475,\n",
      "       3548, 3687, 3743],\n",
      "      dtype='int64')\n",
      "number of records:  63\n",
      "This dataset has 3784 data points with 13 variables.\n"
     ]
    }
   ],
   "source": [
    "mean = np.mean(df[\"mileage\"])\n",
    "\n",
    "std = np.std(df[\"mileage\"])\n",
    "\n",
    "lower_limit = df.loc[df[\"mileage\"] < (mean - 3*std) ].index\n",
    "upper_limit = df.loc[df[\"mileage\"] > (mean + 3*std) ].index\n",
    "print(\"lower limit: \", lower_limit)\n",
    "print(\"upper limit: \", upper_limit)\n",
    "print(\"number of records: \", len(lower_limit) + len(upper_limit))\n",
    "\n",
    "# drop them\n",
    "df.drop(lower_limit, inplace=True)\n",
    "df.drop(upper_limit, inplace=True)\n",
    "\n",
    "print(\"This dataset has {} data points with {} variables.\".format(*df.shape))\n"
   ]
  },
  {
   "cell_type": "code",
   "execution_count": 5,
   "id": "46f86f47",
   "metadata": {},
   "outputs": [
    {
     "name": "stdout",
     "output_type": "stream",
     "text": [
      "This dataset has 3784 data points with 13 variables.\n"
     ]
    }
   ],
   "source": [
    "df = df.drop_duplicates()\n",
    "print(\"This dataset has {} data points with {} variables.\".format(*df.shape))\n",
    "response=df['price']\n",
    "\n",
    "features = df.drop('price',axis=1)\n",
    "features = features.drop('Unnamed: 0',axis=1)"
   ]
  },
  {
   "cell_type": "code",
   "execution_count": 6,
   "id": "7551182f",
   "metadata": {},
   "outputs": [],
   "source": [
    "from sklearn.preprocessing import PolynomialFeatures\n",
    "from sklearn.metrics import mean_squared_error\n",
    "from sklearn.model_selection import train_test_split\n",
    "from sklearn.linear_model import LinearRegression"
   ]
  },
  {
   "cell_type": "code",
   "execution_count": 7,
   "id": "bbb07212",
   "metadata": {
    "scrolled": true
   },
   "outputs": [
    {
     "name": "stdout",
     "output_type": "stream",
     "text": [
      "Training and testing split was successful.\n",
      "R^2 in Trainset for poly: 0.7471778818055763\n",
      "R^2 in Testset for poly: 0.8207056906163122\n",
      "RMSE in Test: 3530.9040096945846\n"
     ]
    }
   ],
   "source": [
    "X_train_poly, X_test_poly, Y_train_poly, Y_test_poly = train_test_split(features, \n",
    "                                                   response,\n",
    "                                                   test_size=0.1,\n",
    "                                                   random_state = 1024)\n",
    "\n",
    "print(\"Training and testing split was successful.\")\n",
    "\n",
    "\n",
    "\n",
    "poly = PolynomialFeatures(degree =2)\n",
    "X_train_poly = poly.fit_transform(X_train_poly)\n",
    "X_test_poly = poly.transform(X_test_poly)\n",
    "\n",
    "model_poly = LinearRegression()\n",
    "model_poly.fit(X_train_poly, Y_train_poly)\n",
    "pred_poly = model_poly.predict(X_test_poly)\n",
    "\n",
    "r2_train_poly = model_poly.score(X_train_poly, Y_train_poly)\n",
    "print(\"R^2 in Trainset for poly:\", r2_train_poly)\n",
    "r2_test_poly = model_poly.score(X_test_poly, Y_test_poly)\n",
    "print(\"R^2 in Testset for poly:\", r2_test_poly)\n",
    "\n",
    "rmse_poly = mean_squared_error(Y_test_poly, pred_poly)**0.5 \n",
    "print(\"RMSE in Test:\", rmse_poly)"
   ]
  },
  {
   "cell_type": "markdown",
   "id": "74a3c4c1",
   "metadata": {},
   "source": [
    "## Member Contribution Matrix\n",
    "|Cont| Ishu | Seu | David |\n",
    "|---|---|---|---|\n",
    "| Ishu|x|4|4|\n",
    "| Seu| 4|x|4|\n",
    "| David |4|4|x|"
   ]
  }
 ],
 "metadata": {
  "kernelspec": {
   "display_name": "Python 3 (ipykernel)",
   "language": "python",
   "name": "python3"
  },
  "language_info": {
   "codemirror_mode": {
    "name": "ipython",
    "version": 3
   },
   "file_extension": ".py",
   "mimetype": "text/x-python",
   "name": "python",
   "nbconvert_exporter": "python",
   "pygments_lexer": "ipython3",
   "version": "3.11.5"
  }
 },
 "nbformat": 4,
 "nbformat_minor": 5
}
