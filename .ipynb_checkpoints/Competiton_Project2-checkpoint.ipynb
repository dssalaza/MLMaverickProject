{
 "cells": [
  {
   "cell_type": "markdown",
   "id": "c3eaa67a",
   "metadata": {},
   "source": [
    "# B. Competition \n",
    "\n",
    "MLMaverick Team\n",
    "- Seulah Lee 300361747\n",
    "- David Steven Salazar Villegas 300356922\n",
    "- Ishwinder Singh 300351938"
   ]
  },
  {
   "cell_type": "markdown",
   "id": "08cceebd",
   "metadata": {},
   "source": [
    "### 1. Load the dataset\n",
    "- Create a cleaned copy of the DataFrame"
   ]
  },
  {
   "cell_type": "code",
   "execution_count": 8,
   "id": "3649488a",
   "metadata": {},
   "outputs": [
    {
     "data": {
      "text/plain": [
       "(9000, 17)"
      ]
     },
     "execution_count": 8,
     "metadata": {},
     "output_type": "execute_result"
    }
   ],
   "source": [
    "import pandas as pd\n",
    "\n",
    "\n",
    "df = pd.read_csv('bank-sampled-9K.csv',index_col=0)\n",
    "\n",
    "df_cleaned = df.dropna()\n",
    "df_cleaned.head()\n",
    "df_cleaned.shape"
   ]
  }
 ],
 "metadata": {
  "kernelspec": {
   "display_name": "Python 3 (ipykernel)",
   "language": "python",
   "name": "python3"
  },
  "language_info": {
   "codemirror_mode": {
    "name": "ipython",
    "version": 3
   },
   "file_extension": ".py",
   "mimetype": "text/x-python",
   "name": "python",
   "nbconvert_exporter": "python",
   "pygments_lexer": "ipython3",
   "version": "3.11.4"
  }
 },
 "nbformat": 4,
 "nbformat_minor": 5
}
